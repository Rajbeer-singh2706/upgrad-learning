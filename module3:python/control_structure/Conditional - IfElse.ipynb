{
 "cells": [
  {
   "cell_type": "code",
   "execution_count": null,
   "metadata": {
    "collapsed": false
   },
   "outputs": [],
   "source": [
    "score = int(input(\"Enter your test score : \"))\n",
    "passing = 40\n",
    "distinction = 90\n"
   ]
  },
  {
   "cell_type": "code",
   "execution_count": null,
   "metadata": {
    "collapsed": false
   },
   "outputs": [],
   "source": [
    "if score >= distinction:\n",
    "    print(\"You're at the top! You’ve earned a distinction!\")\n",
    "\n",
    "if score >= passing and score < distinction:\n",
    "    print(\"You have passed!\")\n",
    "\n",
    "if score < passing:\n",
    "    print(\"Sorry! You have failed\")\n"
   ]
  },
  {
   "cell_type": "code",
   "execution_count": null,
   "metadata": {
    "collapsed": false
   },
   "outputs": [],
   "source": [
    "if score==100:\n",
    "    print(\"Perfect\")\n",
    "elif  90<=score<100:\n",
    "    print(\"Distinction\")\n",
    "elif 65<=score<90:\n",
    "    print(\"First Class\")\n",
    "elif 40<=score<65:\n",
    "    print(\"Second Class\")\n",
    "else:\n",
    "    print(\"Failed\")\n"
   ]
  },
  {
   "cell_type": "code",
   "execution_count": null,
   "metadata": {
    "collapsed": false
   },
   "outputs": [],
   "source": [
    "statement = \"The coffee is bad\"\n",
    "if 'bad' in statement:\n",
    "    print(\"Bad review!\")\n",
    "\n",
    "statement2 = \"This phone works great\"\n",
    "if 'bad' in statement2:\n",
    "    print(\"This is not a bad review\")\n"
   ]
  },
  {
   "cell_type": "code",
   "execution_count": null,
   "metadata": {
    "collapsed": false
   },
   "outputs": [],
   "source": [
    "num = int(input(\"Enter a number: \"))\n",
    "#enter 24\n",
    "if num%2==0:\n",
    "    print(\"Even\")\n",
    "    if num%4==0:\n",
    "        print(\"divisible by 4\")\n",
    "    else:\n",
    "        print(\"Not divisible by 4\")\n",
    "else:\n",
    "    print(\"Odd\")\n",
    "    if num%3==0:\n",
    "        print(\"Divisible by 3\")\n",
    "    else:\n",
    "        print(\"Not divisible by 3\")\n"
   ]
  },
  {
   "cell_type": "code",
   "execution_count": 1,
   "metadata": {
    "collapsed": false
   },
   "outputs": [
    {
     "name": "stdout",
     "output_type": "stream",
     "text": [
      "Is False\n"
     ]
    }
   ],
   "source": [
    "if None:\n",
    "    print(\"Is True\")\n",
    "else:\n",
    "    print(\"Is False\")"
   ]
  },
  {
   "cell_type": "code",
   "execution_count": 3,
   "metadata": {},
   "outputs": [
    {
     "name": "stdout",
     "output_type": "stream",
     "text": [
      "YES\n"
     ]
    }
   ],
   "source": [
    "input_str=\"analytics\"\n",
    "if input_str.startswith(\"a\"):\n",
    "    print(\"YES\")\n",
    "else:\n",
    "    print(\"NO\")"
   ]
  },
  {
   "cell_type": "code",
   "execution_count": 4,
   "metadata": {},
   "outputs": [
    {
     "name": "stdout",
     "output_type": "stream",
     "text": [
      "YES\n"
     ]
    }
   ],
   "source": [
    "input_str=\"analytics\"\n",
    "vowels = ['a','e','i','o','u']\n",
    "\n",
    "if len(input_str) > 0 and input_str[0] in vowels:\n",
    "    print(\"YES\")\n",
    "else:\n",
    "    print(\"NO\")"
   ]
  },
  {
   "cell_type": "code",
   "execution_count": 5,
   "metadata": {},
   "outputs": [
    {
     "ename": "SyntaxError",
     "evalue": "invalid syntax (648240929.py, line 10)",
     "output_type": "error",
     "traceback": [
      "\u001b[0;36m  Cell \u001b[0;32mIn[5], line 10\u001b[0;36m\u001b[0m\n\u001b[0;31m    Feedback:\u001b[0m\n\u001b[0m             ^\u001b[0m\n\u001b[0;31mSyntaxError\u001b[0m\u001b[0;31m:\u001b[0m invalid syntax\n"
     ]
    }
   ],
   "source": [
    "if True or True:\n",
    "    if False and True or False:\n",
    "        print('A')\n",
    "    elif False and False or True and True:\n",
    "        print('B')\n",
    "    else:\n",
    "        print('C')\n",
    "else:\n",
    "    print('D')\n",
    "Feedback:\n",
    "T or T will be a T. The code will return the value which satisfies this statements. A will be returned for an F since (F and T) = F, (F or F) = F B will be returned for a T since (F and F) =F, (T and T) =T, (F or T) = T"
   ]
  },
  {
   "cell_type": "code",
   "execution_count": null,
   "metadata": {},
   "outputs": [],
   "source": []
  }
 ],
 "metadata": {
  "anaconda-cloud": {},
  "kernelspec": {
   "display_name": "Python 3",
   "language": "python",
   "name": "python3"
  },
  "language_info": {
   "codemirror_mode": {
    "name": "ipython",
    "version": 3
   },
   "file_extension": ".py",
   "mimetype": "text/x-python",
   "name": "python",
   "nbconvert_exporter": "python",
   "pygments_lexer": "ipython3",
   "version": "3.9.12"
  }
 },
 "nbformat": 4,
 "nbformat_minor": 0
}
