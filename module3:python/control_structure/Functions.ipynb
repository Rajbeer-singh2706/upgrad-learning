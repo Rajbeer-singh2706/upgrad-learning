{
 "cells": [
  {
   "cell_type": "code",
   "execution_count": null,
   "metadata": {
    "collapsed": false
   },
   "outputs": [],
   "source": [
    "def scream():\n",
    "    print('Hello World')\n",
    "scream()\n"
   ]
  },
  {
   "cell_type": "code",
   "execution_count": null,
   "metadata": {
    "collapsed": true
   },
   "outputs": [],
   "source": [
    "def square(num):\n",
    "    out = num**2\n",
    "    return(out)\n"
   ]
  },
  {
   "cell_type": "code",
   "execution_count": null,
   "metadata": {
    "collapsed": false
   },
   "outputs": [],
   "source": [
    "sq_3 = square(3)\n",
    "print(sq_3)"
   ]
  },
  {
   "cell_type": "code",
   "execution_count": null,
   "metadata": {
    "collapsed": true
   },
   "outputs": [],
   "source": [
    "def square(num):\n",
    "    out = num**2\n",
    "    print(out)\n"
   ]
  },
  {
   "cell_type": "code",
   "execution_count": null,
   "metadata": {
    "collapsed": false
   },
   "outputs": [],
   "source": [
    "q = square(4)\n",
    "print(\"Q is\"+str(q))\n"
   ]
  },
  {
   "cell_type": "code",
   "execution_count": null,
   "metadata": {
    "collapsed": false
   },
   "outputs": [],
   "source": [
    "def factorial(n):\n",
    "    if n>1:\n",
    "        return n*factorial(n-1)\n",
    "    else:\n",
    "        return n\n",
    "\n",
    "fact = factorial(5)\n",
    "print(fact)\n"
   ]
  },
  {
   "cell_type": "code",
   "execution_count": null,
   "metadata": {
    "collapsed": true
   },
   "outputs": [],
   "source": [
    "def addition(*args):\n",
    "    print(args)\n",
    "    return(sum(args))\n"
   ]
  },
  {
   "cell_type": "code",
   "execution_count": null,
   "metadata": {
    "collapsed": false
   },
   "outputs": [],
   "source": [
    "print(addition(4,5,6,7,8,9))\n",
    "print(addition(1,2))"
   ]
  },
  {
   "cell_type": "code",
   "execution_count": null,
   "metadata": {
    "collapsed": false
   },
   "outputs": [],
   "source": [
    "def proper(some_text):\n",
    "    some_text = some_text.strip()\n",
    "    some_text = \" \".join([word[0].upper() + word[1:] for word in some_text.split()])\n",
    "    return some_text\n",
    "\n",
    "captain = proper(\"mahendra singh dhoni\")\n",
    "print(captain)\n"
   ]
  },
  {
   "cell_type": "code",
   "execution_count": null,
   "metadata": {
    "collapsed": false
   },
   "outputs": [],
   "source": [
    "string_to_list = lambda x: x.split()\n",
    "print(string_to_list(captain))\n",
    "print(type(string_to_list))\n"
   ]
  },
  {
   "cell_type": "code",
   "execution_count": 1,
   "metadata": {
    "collapsed": false
   },
   "outputs": [
    {
     "name": "stdout",
     "output_type": "stream",
     "text": [
      "12\n"
     ]
    }
   ],
   "source": [
    "product = lambda x, y : x*y\n",
    "print(product(3,4))"
   ]
  },
  {
   "cell_type": "code",
   "execution_count": 2,
   "metadata": {
    "collapsed": true
   },
   "outputs": [
    {
     "ename": "NameError",
     "evalue": "name 'input_list' is not defined",
     "output_type": "error",
     "traceback": [
      "\u001b[0;31m---------------------------------------------------------------------------\u001b[0m",
      "\u001b[0;31mNameError\u001b[0m                                 Traceback (most recent call last)",
      "\u001b[1;32m/Users/rajsingh/work/repos-new/upgrad-learning/module3:python/control_structure/Functions.ipynb Cell 12\u001b[0m line \u001b[0;36m4\n\u001b[1;32m      <a href='vscode-notebook-cell:/Users/rajsingh/work/repos-new/upgrad-learning/module3%3Apython/control_structure/Functions.ipynb#X14sZmlsZQ%3D%3D?line=0'>1</a>\u001b[0m \u001b[39m#import ast,sys\u001b[39;00m\n\u001b[1;32m      <a href='vscode-notebook-cell:/Users/rajsingh/work/repos-new/upgrad-learning/module3%3Apython/control_structure/Functions.ipynb#X14sZmlsZQ%3D%3D?line=1'>2</a>\u001b[0m \u001b[39m#input_str = sys.stdin.read()\u001b[39;00m\n\u001b[1;32m      <a href='vscode-notebook-cell:/Users/rajsingh/work/repos-new/upgrad-learning/module3%3Apython/control_structure/Functions.ipynb#X14sZmlsZQ%3D%3D?line=2'>3</a>\u001b[0m \u001b[39m#input_list = ast.literal_eval(input_str)\u001b[39;00m\n\u001b[0;32m----> <a href='vscode-notebook-cell:/Users/rajsingh/work/repos-new/upgrad-learning/module3%3Apython/control_structure/Functions.ipynb#X14sZmlsZQ%3D%3D?line=3'>4</a>\u001b[0m a \u001b[39m=\u001b[39m \u001b[39mint\u001b[39m(input_list[\u001b[39m0\u001b[39m])\n\u001b[1;32m      <a href='vscode-notebook-cell:/Users/rajsingh/work/repos-new/upgrad-learning/module3%3Apython/control_structure/Functions.ipynb#X14sZmlsZQ%3D%3D?line=4'>5</a>\u001b[0m b \u001b[39m=\u001b[39m \u001b[39mint\u001b[39m(input_list[\u001b[39m1\u001b[39m])\n\u001b[1;32m      <a href='vscode-notebook-cell:/Users/rajsingh/work/repos-new/upgrad-learning/module3%3Apython/control_structure/Functions.ipynb#X14sZmlsZQ%3D%3D?line=6'>7</a>\u001b[0m greater \u001b[39m=\u001b[39m \u001b[39mlambda\u001b[39;00m x,y : x \u001b[39mif\u001b[39;00m x\u001b[39m>\u001b[39my \u001b[39melse\u001b[39;00m y\n",
      "\u001b[0;31mNameError\u001b[0m: name 'input_list' is not defined"
     ]
    }
   ],
   "source": [
    "#import ast,sys\n",
    "#input_str = sys.stdin.read()\n",
    "#input_list = ast.literal_eval(input_str)\n",
    "a = int(input_list[0])\n",
    "b = int(input_list[1])\n",
    "\n",
    "greater = lambda x,y : x if x>y else y\n",
    "\n",
    "print(greater(a,b))"
   ]
  },
  {
   "cell_type": "code",
   "execution_count": 3,
   "metadata": {},
   "outputs": [
    {
     "data": {
      "text/plain": [
       "9996"
      ]
     },
     "execution_count": 3,
     "metadata": {},
     "output_type": "execute_result"
    }
   ],
   "source": [
    "min = (lambda x, y: x if x < y else y)\n",
    "min(101*99, 102*98)"
   ]
  },
  {
   "cell_type": "code",
   "execution_count": null,
   "metadata": {},
   "outputs": [],
   "source": []
  }
 ],
 "metadata": {
  "anaconda-cloud": {},
  "kernelspec": {
   "display_name": "Python 3",
   "language": "python",
   "name": "python3"
  },
  "language_info": {
   "codemirror_mode": {
    "name": "ipython",
    "version": 3
   },
   "file_extension": ".py",
   "mimetype": "text/x-python",
   "name": "python",
   "nbconvert_exporter": "python",
   "pygments_lexer": "ipython3",
   "version": "3.9.12"
  }
 },
 "nbformat": 4,
 "nbformat_minor": 0
}
