{
 "cells": [
  {
   "cell_type": "code",
   "execution_count": null,
   "metadata": {
    "collapsed": false
   },
   "outputs": [],
   "source": [
    "first_list = [2, 4, 5]\n",
    "print(first_list**2)"
   ]
  },
  {
   "cell_type": "code",
   "execution_count": null,
   "metadata": {
    "collapsed": true
   },
   "outputs": [],
   "source": [
    "first_list = [2, 4, 5]"
   ]
  },
  {
   "cell_type": "code",
   "execution_count": null,
   "metadata": {
    "collapsed": false
   },
   "outputs": [],
   "source": [
    "print(map(lambda x: x**2, first_list))"
   ]
  },
  {
   "cell_type": "code",
   "execution_count": null,
   "metadata": {
    "collapsed": false
   },
   "outputs": [],
   "source": [
    "first_list = [2,4,5]\n",
    "print(list(map(lambda x: x**2, first_list)))"
   ]
  },
  {
   "cell_type": "code",
   "execution_count": null,
   "metadata": {
    "collapsed": false
   },
   "outputs": [],
   "source": [
    "def squareit(n):\n",
    "    return n**2\n",
    "print(list(map(squareit, first_list)))"
   ]
  },
  {
   "cell_type": "code",
   "execution_count": null,
   "metadata": {
    "collapsed": false
   },
   "outputs": [],
   "source": [
    "sums_list = [3,5,9,7]\n",
    "sums_list2 = (4,5,6,7)\n",
    "print(list(map(lambda x,y : x+y, sums_list,sums_list2)))"
   ]
  },
  {
   "cell_type": "code",
   "execution_count": null,
   "metadata": {
    "collapsed": false
   },
   "outputs": [],
   "source": [
    "list_of_names = ['nikola', 'james', 'albert']\n",
    "list_of_names2 = ['tesla','watt','einstein']\n",
    "proper = lambda x, y: x[0].upper()+x[1:] +' '+ y[0].upper()+y[1:]\n",
    "print(list(map(proper, list_of_names,list_of_names2)))\n"
   ]
  },
  {
   "cell_type": "code",
   "execution_count": null,
   "metadata": {
    "collapsed": false
   },
   "outputs": [],
   "source": [
    "#Filter\n",
    "divby3 = lambda x:  x % 3 == 0\n",
    "my_list = [3,4,5,6,7,8,9]\n",
    "div = filter(divby3, my_list)\n",
    "print(list(div))"
   ]
  },
  {
   "cell_type": "code",
   "execution_count": null,
   "metadata": {
    "collapsed": false
   },
   "outputs": [],
   "source": [
    "#Reduce\n",
    "from functools import reduce\n",
    "q  = reduce(lambda x, y: x+y, range(1,4))\n",
    "print(q)"
   ]
  },
  {
   "cell_type": "code",
   "execution_count": 1,
   "metadata": {
    "collapsed": false
   },
   "outputs": [
    {
     "ename": "NameError",
     "evalue": "name 'reduce' is not defined",
     "output_type": "error",
     "traceback": [
      "\u001b[0;31m---------------------------------------------------------------------------\u001b[0m",
      "\u001b[0;31mNameError\u001b[0m                                 Traceback (most recent call last)",
      "\u001b[1;32m/Users/rajsingh/work/repos-new/upgrad-learning/module3:python/control_structure/Map, Reduce & Filter.ipynb Cell 10\u001b[0m line \u001b[0;36m2\n\u001b[1;32m      <a href='vscode-notebook-cell:/Users/rajsingh/work/repos-new/upgrad-learning/module3%3Apython/control_structure/Map%2C%20Reduce%20%26%20Filter.ipynb#X12sZmlsZQ%3D%3D?line=0'>1</a>\u001b[0m list_of_nums \u001b[39m=\u001b[39m [\u001b[39m22\u001b[39m,\u001b[39m45\u001b[39m,\u001b[39m32\u001b[39m,\u001b[39m20\u001b[39m,\u001b[39m87\u001b[39m,\u001b[39m94\u001b[39m,\u001b[39m30\u001b[39m]\n\u001b[0;32m----> <a href='vscode-notebook-cell:/Users/rajsingh/work/repos-new/upgrad-learning/module3%3Apython/control_structure/Map%2C%20Reduce%20%26%20Filter.ipynb#X12sZmlsZQ%3D%3D?line=1'>2</a>\u001b[0m \u001b[39mprint\u001b[39m(reduce(\u001b[39mlambda\u001b[39;00m x,y: x \u001b[39mif\u001b[39;00m x\u001b[39m>\u001b[39my \u001b[39melse\u001b[39;00m y,list_of_nums))\n",
      "\u001b[0;31mNameError\u001b[0m: name 'reduce' is not defined"
     ]
    }
   ],
   "source": [
    "list_of_nums = [22,45,32,20,87,94,30]\n",
    "print(reduce(lambda x,y: x if x>y else y,list_of_nums))"
   ]
  },
  {
   "cell_type": "code",
   "execution_count": null,
   "metadata": {},
   "outputs": [],
   "source": [
    "\n",
    "cube = list(map(lambda x: x**3, input_list))\n",
    "\n",
    "print(cube)"
   ]
  },
  {
   "cell_type": "code",
   "execution_count": 4,
   "metadata": {},
   "outputs": [
    {
     "name": "stdout",
     "output_type": "stream",
     "text": [
      "3\n"
     ]
    }
   ],
   "source": [
    "\n",
    "input_list = ['San Jose', 'San Francisco', 'Santa Fe', 'Houston']\n",
    "\n",
    "\n",
    "count = len([ item for item in map(lambda x: True if x.startswith(\"S\") else False, input_list) if item ])\n",
    "\n",
    "print(count)"
   ]
  },
  {
   "cell_type": "code",
   "execution_count": 5,
   "metadata": {},
   "outputs": [
    {
     "ename": "NameError",
     "evalue": "name 'ast' is not defined",
     "output_type": "error",
     "traceback": [
      "\u001b[0;31m---------------------------------------------------------------------------\u001b[0m",
      "\u001b[0;31mNameError\u001b[0m                                 Traceback (most recent call last)",
      "\u001b[1;32m/Users/rajsingh/work/repos-new/upgrad-learning/module3:python/control_structure/Map, Reduce & Filter.ipynb Cell 13\u001b[0m line \u001b[0;36m1\n\u001b[0;32m----> <a href='vscode-notebook-cell:/Users/rajsingh/work/repos-new/upgrad-learning/module3%3Apython/control_structure/Map%2C%20Reduce%20%26%20Filter.ipynb#X15sZmlsZQ%3D%3D?line=0'>1</a>\u001b[0m input_list \u001b[39m=\u001b[39m ast\u001b[39m.\u001b[39mliteral_eval(input_str)\n\u001b[1;32m      <a href='vscode-notebook-cell:/Users/rajsingh/work/repos-new/upgrad-learning/module3%3Apython/control_structure/Map%2C%20Reduce%20%26%20Filter.ipynb#X15sZmlsZQ%3D%3D?line=2'>3</a>\u001b[0m sp \u001b[39m=\u001b[39m \u001b[39mlist\u001b[39m(\u001b[39mfilter\u001b[39m( \u001b[39mlambda\u001b[39;00m name: name\u001b[39m.\u001b[39mstartswith(\u001b[39m\"\u001b[39m\u001b[39ms\u001b[39m\u001b[39m\"\u001b[39m) \u001b[39mand\u001b[39;00m name\u001b[39m.\u001b[39mendswith(\u001b[39m\"\u001b[39m\u001b[39mp\u001b[39m\u001b[39m\"\u001b[39m) , input_list))\n\u001b[1;32m      <a href='vscode-notebook-cell:/Users/rajsingh/work/repos-new/upgrad-learning/module3%3Apython/control_structure/Map%2C%20Reduce%20%26%20Filter.ipynb#X15sZmlsZQ%3D%3D?line=4'>5</a>\u001b[0m \u001b[39mprint\u001b[39m(sp)\n",
      "\u001b[0;31mNameError\u001b[0m: name 'ast' is not defined"
     ]
    }
   ],
   "source": [
    "\n",
    "input_list = ast.literal_eval(input_str)\n",
    "\n",
    "sp = list(filter( lambda name: name.startswith(\"s\") and name.endswith(\"p\") , input_list))\n",
    "\n",
    "print(sp)"
   ]
  },
  {
   "cell_type": "code",
   "execution_count": 6,
   "metadata": {},
   "outputs": [
    {
     "ename": "NameError",
     "evalue": "name 'ast' is not defined",
     "output_type": "error",
     "traceback": [
      "\u001b[0;31m---------------------------------------------------------------------------\u001b[0m",
      "\u001b[0;31mNameError\u001b[0m                                 Traceback (most recent call last)",
      "\u001b[1;32m/Users/rajsingh/work/repos-new/upgrad-learning/module3:python/control_structure/Map, Reduce & Filter.ipynb Cell 14\u001b[0m line \u001b[0;36m1\n\u001b[0;32m----> <a href='vscode-notebook-cell:/Users/rajsingh/work/repos-new/upgrad-learning/module3%3Apython/control_structure/Map%2C%20Reduce%20%26%20Filter.ipynb#X16sZmlsZQ%3D%3D?line=0'>1</a>\u001b[0m input_list \u001b[39m=\u001b[39m ast\u001b[39m.\u001b[39mliteral_eval(input_str)\n\u001b[1;32m      <a href='vscode-notebook-cell:/Users/rajsingh/work/repos-new/upgrad-learning/module3%3Apython/control_structure/Map%2C%20Reduce%20%26%20Filter.ipynb#X16sZmlsZQ%3D%3D?line=2'>3</a>\u001b[0m \u001b[39mfrom\u001b[39;00m \u001b[39mfunctools\u001b[39;00m \u001b[39mimport\u001b[39;00m reduce\n\u001b[1;32m      <a href='vscode-notebook-cell:/Users/rajsingh/work/repos-new/upgrad-learning/module3%3Apython/control_structure/Map%2C%20Reduce%20%26%20Filter.ipynb#X16sZmlsZQ%3D%3D?line=4'>5</a>\u001b[0m reduce_str \u001b[39m=\u001b[39m reduce(\u001b[39mlambda\u001b[39;00m x,y : x\u001b[39m+\u001b[39m\u001b[39m\"\u001b[39m\u001b[39m \u001b[39m\u001b[39m\"\u001b[39m\u001b[39m+\u001b[39my , input_list)\n",
      "\u001b[0;31mNameError\u001b[0m: name 'ast' is not defined"
     ]
    }
   ],
   "source": [
    "input_list = ast.literal_eval(input_str)\n",
    "\n",
    "from functools import reduce\n",
    "\n",
    "reduce_str = reduce(lambda x,y : x+\" \"+y , input_list)\n",
    "\n",
    "print(reduce_str)"
   ]
  },
  {
   "cell_type": "code",
   "execution_count": 7,
   "metadata": {},
   "outputs": [
    {
     "ename": "SyntaxError",
     "evalue": "invalid syntax (3147388441.py, line 1)",
     "output_type": "error",
     "traceback": [
      "\u001b[0;36m  Cell \u001b[0;32mIn[7], line 1\u001b[0;36m\u001b[0m\n\u001b[0;31m    You are given a list of numbers such as input_list = [31, 63, 76, 89]. Find and print the largest number in input_list using the reduce() function.\u001b[0m\n\u001b[0m        ^\u001b[0m\n\u001b[0;31mSyntaxError\u001b[0m\u001b[0;31m:\u001b[0m invalid syntax\n"
     ]
    }
   ],
   "source": [
    "You are given a list of numbers such as input_list = [31, 63, 76, 89]. Find and print the largest number in input_list using the reduce() function.\n",
    "\n",
    "answer = reduce(lambda x,y: x if x>y  else y , input_list)"
   ]
  },
  {
   "cell_type": "code",
   "execution_count": null,
   "metadata": {},
   "outputs": [],
   "source": []
  }
 ],
 "metadata": {
  "anaconda-cloud": {},
  "kernelspec": {
   "display_name": "Python 3",
   "language": "python",
   "name": "python3"
  },
  "language_info": {
   "codemirror_mode": {
    "name": "ipython",
    "version": 3
   },
   "file_extension": ".py",
   "mimetype": "text/x-python",
   "name": "python",
   "nbconvert_exporter": "python",
   "pygments_lexer": "ipython3",
   "version": "3.9.12"
  }
 },
 "nbformat": 4,
 "nbformat_minor": 0
}
