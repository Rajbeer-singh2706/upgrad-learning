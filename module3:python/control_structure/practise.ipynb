{
 "cells": [
  {
   "cell_type": "code",
   "execution_count": 1,
   "metadata": {},
   "outputs": [
    {
     "data": {
      "text/plain": [
       "1"
      ]
     },
     "execution_count": 1,
     "metadata": {},
     "output_type": "execute_result"
    }
   ],
   "source": [
    "((500//7) % 5) ** 3"
   ]
  },
  {
   "cell_type": "code",
   "execution_count": 2,
   "metadata": {},
   "outputs": [
    {
     "data": {
      "text/plain": [
       "[1, 2, 3, 1, 2, 3]"
      ]
     },
     "execution_count": 2,
     "metadata": {},
     "output_type": "execute_result"
    }
   ],
   "source": [
    "L = [1, 2, 3]\n",
    "L*2"
   ]
  },
  {
   "cell_type": "code",
   "execution_count": 3,
   "metadata": {},
   "outputs": [
    {
     "data": {
      "text/plain": [
       "[[7, 8, 9, 10]]"
      ]
     },
     "execution_count": 3,
     "metadata": {},
     "output_type": "execute_result"
    }
   ],
   "source": [
    "L = [[1, 2, 3], [4, 5, 6], [7, 8, 9, 10]]\n",
    "L[2:]"
   ]
  },
  {
   "cell_type": "code",
   "execution_count": 7,
   "metadata": {},
   "outputs": [
    {
     "name": "stdout",
     "output_type": "stream",
     "text": [
      "120\n"
     ]
    }
   ],
   "source": [
    "# n = 1\n",
    "\n",
    "# # Import the reduce() function\n",
    "from functools import reduce\n",
    "\n",
    "# fact = reduce(lambda x,y)\n",
    "\n",
    "n=5\n",
    "l = range(n,0,-1)\n",
    "list(l)\n",
    "\n",
    "fact = reduce(lambda x,y: x*y if x>0 else 1, range(n,0,-1))\n",
    "print(fact)"
   ]
  },
  {
   "cell_type": "code",
   "execution_count": 42,
   "metadata": {},
   "outputs": [
    {
     "name": "stdout",
     "output_type": "stream",
     "text": [
      "[2, 5, 9, 13]\n",
      "[16]\n",
      "[12, 15, 16]\n",
      "[3, 8, 14, 20]\n"
     ]
    }
   ],
   "source": [
    "C = [2, 5, 9, 12, 13, 15, 16, 17, 18, 19]\n",
    "F = [2, 4, 5, 6, 7, 9, 13, 16]\n",
    "H = [1, 2, 5, 9, 10, 11, 12, 13, 15]\n",
    "\n",
    "'''\n",
    "   1. Students who play all the three sports\n",
    "   2. Students who play both cricket and football but don’t play hockey\n",
    "   3. Students who play exactly two of the sports\n",
    "   4. Students who dont play any of the three sports\n",
    "'''\n",
    "C = set(C)\n",
    "F = set(F)\n",
    "H = set(H)\n",
    "\n",
    "print(sorted(list(C.intersection(F).intersection(H))))\n",
    "print(sorted(list(C.intersection(F).difference(H))))\n",
    "print(list(sorted(C.intersection(F).symmetric_difference(C.intersection(H)))))\n",
    "\n",
    "all_students = set(range(1,21))\n",
    "print(sorted(list(all_students.difference(C).difference(F).difference(H))))\n"
   ]
  },
  {
   "cell_type": "code",
   "execution_count": 48,
   "metadata": {},
   "outputs": [
    {
     "name": "stdout",
     "output_type": "stream",
     "text": [
      "[2, 5, 9, 13]\n",
      "[16]\n",
      "[12, 15, 16]\n",
      "[3, 8, 14, 20]\n"
     ]
    }
   ],
   "source": [
    "C_set = set(C)\n",
    "F_set = set(F)\n",
    "H_set = set(H)\n",
    "\n",
    "# Students who play all three sports\n",
    "all_three = sorted(list(C_set & F_set & H_set))\n",
    "print(all_three)\n",
    "\n",
    "# Students who play both cricket and football but not hockey\n",
    "cricket_football_not_hockey = sorted(list((C_set & F_set) - H_set))\n",
    "print(cricket_football_not_hockey)\n",
    "\n",
    "# Calculating students who play exactly two of the sports\n",
    "cricket_and_football = C_set & F_set\n",
    "cricket_and_hockey = C_set & H_set\n",
    "football_and_hockey = F_set & H_set\n",
    "exactly_two_sports = sorted(list((cricket_and_football | cricket_and_hockey | football_and_hockey) - (C_set & F_set & H_set)))\n",
    "print(exactly_two_sports)\n",
    "\n",
    "# Students who don't play any of the sports\n",
    "no_sports = sorted(list(set(range(1, 21)) - (C_set | F_set | H_set)))\n",
    "print(no_sports)"
   ]
  },
  {
   "cell_type": "code",
   "execution_count": null,
   "metadata": {},
   "outputs": [],
   "source": [
    "\n",
    "    # Students who play both cricket and football but not hockey\n",
    "    cricket_football_not_hockey = sorted(list((C_set & F_set) - H_set))\n",
    "\n",
    "    # Calculating students who play exactly two of the sports\n",
    "    cricket_and_football = C_set & F_set\n",
    "    cricket_and_hockey = C_set & H_set\n",
    "    football_and_hockey = F_set & H_set\n",
    "    exactly_two_sports = sorted(list((cricket_and_football | cricket_and_hockey | football_and_hockey) - (C_set & F_set & H_set)))\n",
    "\n",
    "    # Students who don't play any of the sports\n",
    "    no_sports = sorted(list(set(range(1, 21)) - (C_set | F_set | H_set)))"
   ]
  }
 ],
 "metadata": {
  "kernelspec": {
   "display_name": "de-venv1",
   "language": "python",
   "name": "python3"
  },
  "language_info": {
   "codemirror_mode": {
    "name": "ipython",
    "version": 3
   },
   "file_extension": ".py",
   "mimetype": "text/x-python",
   "name": "python",
   "nbconvert_exporter": "python",
   "pygments_lexer": "ipython3",
   "version": "3.9.12"
  }
 },
 "nbformat": 4,
 "nbformat_minor": 2
}
