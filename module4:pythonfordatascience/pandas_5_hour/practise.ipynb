{
 "cells": [
  {
   "cell_type": "code",
   "execution_count": null,
   "metadata": {},
   "outputs": [],
   "source": [
    "'''\n",
    "    * Creating dataframes\n",
    "    * Importing CSV data files as Pandas dataframes\n",
    "    * Reading and summarising dataframes\n",
    "    * Sorting dataframes\n",
    "    * Labelling, indexing and slicing data\n",
    "    * Merging dataframes using joins\n",
    "    * Pivoting and grouping\n",
    "'''"
   ]
  }
 ],
 "metadata": {
  "language_info": {
   "name": "python"
  }
 },
 "nbformat": 4,
 "nbformat_minor": 2
}
